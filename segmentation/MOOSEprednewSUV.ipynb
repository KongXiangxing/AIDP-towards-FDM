{
 "cells": [
  {
   "cell_type": "markdown",
   "metadata": {},
   "source": [
    "# Tumor load calculation for the lymphoma cohort\n",
    "\n",
    "You need to use the 2.2.39 version of moosez, which is installed by the following command:\n",
    "\n",
    "```bash\n",
    "pip install moosez==2.2.39\n",
    "```\n",
    "And the other steps are the same as described in the moose document.\n",
    "\n",
    "The next thing is that the weights file cannot be downloaded. I can provide a local version of `Dataset789_Tumor_3/`, which could be unzipped at the `./models/nnunet_trained_models/` directory.\n",
    "\n",
    "You also need to acquire the `imvis` package by Xiangxi Meng. I have not released it yet, and you may need to follow the instructions on the [GitHub repository](https://www.github.com/MengXiangxi/imvis). Remember to install this package into the same venv as the corresponding version of moosez."
   ]
  },
  {
   "cell_type": "code",
   "execution_count": null,
   "metadata": {},
   "outputs": [],
   "source": [
    "import imvis as iv\n",
    "from imvis import utils\n",
    "import os\n",
    "import shutil\n",
    "import glob\n",
    "import pydicom\n",
    "import dicom2nifti\n",
    "import SimpleITK as sitk\n",
    "import numpy as np\n",
    "from pydicom import dcmread \n",
    "\n",
    "\n",
    "data_dir = \"../data\"\n",
    "\n"
   ]
  },
  {
   "cell_type": "markdown",
   "metadata": {},
   "source": [
    "Set up the folders"
   ]
  },
  {
   "cell_type": "code",
   "execution_count": null,
   "metadata": {},
   "outputs": [],
   "source": [
    "Patients = []\n",
    "newdata_dir = '../data/External_Verification'\n",
    "for i in os.listdir(os.path.join(data_dir,'0')):\n",
    "    if os.path.isdir(os.path.join(data_dir,'0',i)):\n",
    "        Patients.append(i)\n",
    "        try:\n",
    "            os.mkdir(os.path.join(newdata_dir,\"input/0\", i))\n",
    "            os.mkdir(os.path.join(newdata_dir,\"output/0\", i))\n",
    "        except:\n",
    "            pass"
   ]
  },
  {
   "cell_type": "code",
   "execution_count": null,
   "metadata": {},
   "outputs": [],
   "source": [
    "for i in Patients:\n",
    "    imageName =  \"PET\"\n",
    "    imagePath = os.path.join(data_dir,'dicomdata', i, imageName)\n",
    "    dicom_path = os.path.join(imagePath,os.listdir(imagePath)[5])\n",
    "    if i in os.listdir('../data/segdl/main'):\n",
    "        nif_fname = os.path.join('../data/segdl/main',i,'PET.nii.gz')\n",
    "    elif i in os.listdir('../data/segdl/vali'):\n",
    "        nif_fname = os.path.join('../data/segdl/vali',i,'PET.nii.gz')\n",
    "    # print(dicom_path)\n",
    "    dcm = dcmread(dicom_path)\n",
    "    radiopharm_datetime = dcm.RadiopharmaceuticalInformationSequence[0].RadiopharmaceuticalStartDateTime\n",
    "    injection_dose = float(dcm.RadiopharmaceuticalInformationSequence[0].RadionuclideTotalDose)\n",
    "    half_life = float(dcm.RadiopharmaceuticalInformationSequence[0].RadionuclideHalfLife)\n",
    "    weight = dcm[0x0010,0x1030].value\n",
    "    if dcm[0x0054,0x1102].value == 'START':\n",
    "        try:\n",
    "            acquisition_datetime = dcm[0x0008,0x002A].value\n",
    "        except KeyError:\n",
    "            acquisition_datetime = dcm[0x0008,0x0022].value +\\\n",
    "                dcm[0x0008,0x0032].value\n",
    "        dose = injection_dose * 2**(-utils.datetimestr_diff(acquisition_datetime,radiopharm_datetime)/half_life)\n",
    "    elif dcm[0x0054,0x1102].value == 'ADMIN':\n",
    "        dose = injection_dose\n",
    "    else:\n",
    "        print('ERROR')\n",
    "    SUVfactor = weight * 1000 /dose\n",
    "    image = sitk.ReadImage(nif_fname)\n",
    "    image = sitk.Cast(image,sitk.sitkFloat32)\n",
    "    new_pet = image * SUVfactor\n",
    "    sitk.WriteImage(new_pet,os.path.join(newdata_dir,\"input\", i, \"PT.nii.gz\"))"
   ]
  },
  {
   "cell_type": "code",
   "execution_count": null,
   "metadata": {},
   "outputs": [],
   "source": [
    "from moosez import moose\n",
    "\n",
    "for i in Patients:\n",
    "    input_dir = os.path.join(\"../data/input\", i)\n",
    "    output_dir = os.path.join(\"../data/output\", i)\n",
    "    print(i)\n",
    "    moose(\"clin_pt_fdg_tumor\", input_dir, output_dir,\"cuda\")"
   ]
  },
  {
   "cell_type": "markdown",
   "metadata": {},
   "source": [
    "Quantification of the results"
   ]
  },
  {
   "cell_type": "code",
   "execution_count": null,
   "metadata": {},
   "outputs": [],
   "source": [
    "%matplotlib inline\n",
    "with open(\"output.csv\", \"w\") as f:\n",
    "    f.write(\"Patient ID,Volume,Mean,Std,Tumor Load\\n\")\n",
    "\n",
    "for i in Patients:\n",
    "    pt_fname = glob.glob(\"PT*nii.gz\", root_dir=os.path.join(\"input\", i))[0]\n",
    "    pt_nii = sitk.ReadImage(os.path.join(\"input\", i, pt_fname))\n",
    "    pt_img = sitk.GetArrayFromImage(pt_nii)\n",
    "    mask_fname = glob.glob(\"*nii.gz\", root_dir=os.path.join(\"output\", i))[0]\n",
    "    mask_nii = sitk.ReadImage(os.path.join(\"output\", i, mask_fname))\n",
    "    mask_img = sitk.GetArrayFromImage(mask_nii)\n",
    "    spacing = pt_nii.GetSpacing()\n",
    "    voxel_size = np.prod(spacing)\n",
    "    voi = mask_img*pt_img\n",
    "    voi = voi.flatten()\n",
    "    voi = voi[mask_img.flatten()>0]\n",
    "    if len(voi)>0:\n",
    "        volume = np.sum(voi) * voxel_size\n",
    "        mean = np.mean(voi)\n",
    "        std = np.std(voi)\n",
    "        tumorload = volume * mean\n",
    "    else:\n",
    "        volume = 0\n",
    "        mean = 0\n",
    "        std = 0\n",
    "        tumorload = 0\n",
    "    with open(\"output.csv\", \"a\") as f:\n",
    "        f.write(\"{},{},{},{},{}\\n\".format(i, volume, mean, std, tumorload))"
   ]
  },
  {
   "cell_type": "code",
   "execution_count": null,
   "metadata": {},
   "outputs": [],
   "source": [
    "for i in os.listdir('../data/segdl/1'):\n",
    "    imageName =  \"PET\"\n",
    "    imagePath = os.path.join('../data/moosedata/dicomdata', i, imageName)\n",
    "    dicom_path = os.path.join(imagePath,os.listdir(imagePath)[5])\n",
    "    nif_fname = os.path.join('../data/segdl/1',i,'PET.nii.gz')\n",
    "    # print(dicom_path)\n",
    "    dcm = dcmread(dicom_path)\n",
    "    radiopharm_datetime = dcm.RadiopharmaceuticalInformationSequence[0].RadiopharmaceuticalStartDateTime\n",
    "    # radiopharm_datetime = dcm[0x0008,0x0022].value + radiopharm_datetime\n",
    "    injection_dose = float(dcm.RadiopharmaceuticalInformationSequence[0].RadionuclideTotalDose)\n",
    "    half_life = float(dcm.RadiopharmaceuticalInformationSequence[0].RadionuclideHalfLife)\n",
    "    weight = dcm[0x0010,0x1030].value\n",
    "    if dcm[0x0054,0x1102].value == 'START':\n",
    "        try:\n",
    "            acquisition_datetime = dcm[0x0008,0x002A].value\n",
    "        except KeyError:\n",
    "            acquisition_datetime = dcm[0x0008,0x0022].value +\\\n",
    "                dcm[0x0008,0x0032].value\n",
    "        dose = injection_dose * 2**(-utils.datetimestr_diff(acquisition_datetime,radiopharm_datetime)/half_life)\n",
    "    elif dcm[0x0054,0x1102].value == 'ADMIN':\n",
    "        dose = injection_dose\n",
    "    else:\n",
    "        print('ERROR')\n",
    "    SUVfactor = weight * 1000 /dose\n",
    "    image = sitk.ReadImage(nif_fname)\n",
    "    image = sitk.Cast(image,sitk.sitkFloat32)\n",
    "    # data = sitk.GetArrayFromImage(image)\n",
    "    new_pet = image * SUVfactor\n",
    "    # out = sitk.GetImageFromArray(new_pet)\n",
    "    sitk.WriteImage(new_pet,os.path.join(\"../data/segdl/1\", i, \"SUV.nii.gz\"))"
   ]
  },
  {
   "cell_type": "code",
   "execution_count": null,
   "metadata": {},
   "outputs": [],
   "source": [
    "import SimpleITK as sitk\n",
    "import os\n",
    "import joblib\n",
    "for i in os.listdir('../data/0'):\n",
    "    mask_moose = os.path.join('../data/output/0',i,'PT_FDG_Tumor_PT_0000.nii.gz')\n",
    "    mask_lung = os.path.join('../data/0',i,'LUNG_mask.pkl')\n",
    "    img_moose = sitk.ReadImage(mask_moose)\n",
    "    array_moose = sitk.GetArrayFromImage(img_moose)\n",
    "    array_lung = joblib.load(mask_lung)\n",
    "    new_mask = array_moose\n",
    "    new_mask[array_lung == 0] = 0\n",
    "    sitk.WriteImage(new_pet,os.path.join(\"../data/0\", i, \"PET_M_P.nii.gz\"))"
   ]
  }
 ],
 "metadata": {
  "kernelspec": {
   "display_name": "moose2_2",
   "language": "python",
   "name": "python3"
  },
  "language_info": {
   "codemirror_mode": {
    "name": "ipython",
    "version": 3
   },
   "file_extension": ".py",
   "mimetype": "text/x-python",
   "name": "python",
   "nbconvert_exporter": "python",
   "pygments_lexer": "ipython3",
   "version": "3.10.12"
  },
  "vscode": {
   "interpreter": {
    "hash": "a6a77a0d3d39c5c60cae3a5f324722692005cf957aa9593ab681ea3da02b3dfc"
   }
  }
 },
 "nbformat": 4,
 "nbformat_minor": 2
}
