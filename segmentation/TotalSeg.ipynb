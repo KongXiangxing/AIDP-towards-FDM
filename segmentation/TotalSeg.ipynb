{
 "cells": [
  {
   "cell_type": "code",
   "execution_count": null,
   "metadata": {},
   "outputs": [],
   "source": [
    "import totalsegmentator\n",
    "import subprocess\n",
    "import SimpleITK as sitk"
   ]
  },
  {
   "cell_type": "code",
   "execution_count": null,
   "metadata": {},
   "outputs": [],
   "source": [
    "import os"
   ]
  },
  {
   "cell_type": "code",
   "execution_count": null,
   "metadata": {},
   "outputs": [],
   "source": [
    "for i in os.listdir('../data/External_Verification/1'):\n",
    "    os.makedirs(os.path.join('../data/TotalSeg/output/EX/1',i))"
   ]
  },
  {
   "cell_type": "code",
   "execution_count": null,
   "metadata": {},
   "outputs": [],
   "source": [
    "path_nii = '../data/segdl/1'\n",
    "path_out = '../data/TotalSeg/output/1'\n",
    "for i in os.listdir(path_nii):\n",
    "    img_path = os.path.join(path_nii,i,'CT.nii.gz')\n",
    "    outpath = os.path.join(path_out,i)\n",
    "    command = [\n",
    "    'TotalSegmentator',\n",
    "    '-i',img_path,\n",
    "    '-o',outpath,\n",
    "    '-ta','total'\n",
    "    ]\n",
    "    subprocess.run(command)"
   ]
  },
  {
   "cell_type": "code",
   "execution_count": null,
   "metadata": {},
   "outputs": [],
   "source": [
    "path_nii = '../data/External_Verification/1'\n",
    "path_out = '../data/TotalSeg/output/EX/1'\n",
    "for i in os.listdir(path_nii):\n",
    "    img_path = os.path.join(path_nii,i,'CT.nii.gz')\n",
    "    outpath = os.path.join(path_out,i)\n",
    "    command = [\n",
    "    'TotalSegmentator',\n",
    "    '-i',img_path,\n",
    "    '-o',outpath,\n",
    "    '-ta','total'\n",
    "    ]\n",
    "    subprocess.run(command)"
   ]
  },
  {
   "cell_type": "code",
   "execution_count": null,
   "metadata": {},
   "outputs": [],
   "source": [
    "img_path = '../data/segdl/0/FDG62309/CT.nii.gz'\n",
    "outpath = '../data/TotalSeg/output/FDG62309'\n",
    "img = sitk.ReadImage(img_path)\n",
    "nii = sitk.GetArrayFromImage(img)"
   ]
  },
  {
   "cell_type": "code",
   "execution_count": null,
   "metadata": {},
   "outputs": [],
   "source": [
    "command = [\n",
    "    'TotalSegmentator',\n",
    "    '-i',img_path,\n",
    "    '-o',outpath,\n",
    "    '-ta','total'\n",
    "    \n",
    "]"
   ]
  },
  {
   "cell_type": "code",
   "execution_count": null,
   "metadata": {},
   "outputs": [],
   "source": [
    "subprocess.run(command)"
   ]
  },
  {
   "cell_type": "code",
   "execution_count": null,
   "metadata": {},
   "outputs": [],
   "source": [
    "import os\n",
    "import numpy as np\n",
    "import SimpleITK as sitk\n",
    "path = '../data/TotalSeg/output/0'\n",
    "path_1=os.path.join(path,'lung_lower_lobe_left.nii.gz')\n",
    "path_2 = os.path.join(path,'lung_upper_lobe_left.nii.gz')\n",
    "mask1 = sitk.ReadImage(path_1)\n",
    "mask2 = sitk.ReadImage(path_2)\n",
    "mask1_array = sitk.GetArrayFromImage(mask1)\n",
    "mask2_array = sitk.GetArrayFromImage(mask2)\n",
    "left_lung = (mask1_array | mask2_array).astype(np.uint8)\n",
    "\n",
    "\n",
    "path_3=os.path.join(path,'lung_lower_lobe_right.nii.gz')\n",
    "path_4 = os.path.join(path,'lung_upper_lobe_right.nii.gz')\n",
    "path_5 = os.path.join(path,'lung_middle_lobe_right.nii.gz')\n",
    "mask3 = sitk.ReadImage(path_3)\n",
    "mask4 = sitk.ReadImage(path_4)\n",
    "mask5 = sitk.ReadImage(path_5)\n",
    "mask3_array = sitk.GetArrayFromImage(mask3)\n",
    "mask4_array = sitk.GetArrayFromImage(mask4)\n",
    "mask5_array = sitk.GetArrayFromImage(mask5)\n",
    "right_lung = (mask3_array | mask4_array | mask5_array).astype(np.uint8)"
   ]
  },
  {
   "cell_type": "code",
   "execution_count": 2,
   "metadata": {},
   "outputs": [],
   "source": [
    "lung = left_lung\n",
    "lung[left_lung == 1] = 255\n",
    "lung[right_lung ==1] = 170\n"
   ]
  },
  {
   "cell_type": "code",
   "execution_count": null,
   "metadata": {},
   "outputs": [],
   "source": [
    "union_mask = sitk.GetImageFromArray(lung)\n",
    "union_mask.CopyInformation(mask1) \n",
    "\n",
    "sitk.WriteImage(union_mask, 'union_mask.nii.gz')\n"
   ]
  },
  {
   "cell_type": "code",
   "execution_count": null,
   "metadata": {},
   "outputs": [],
   "source": [
    "import os\n",
    "import numpy as np\n",
    "import SimpleITK as sitk\n",
    "import joblib\n",
    "path = '../data/TotalSeg/output/EX/1'\n",
    "for i in os.listdir(path):\n",
    "    path_1=os.path.join(path,i,'lung_lower_lobe_left.nii.gz')\n",
    "    path_2 = os.path.join(path,i,'lung_upper_lobe_left.nii.gz')\n",
    "    mask1 = sitk.ReadImage(path_1)\n",
    "    mask2 = sitk.ReadImage(path_2)\n",
    "    mask1_array = sitk.GetArrayFromImage(mask1)\n",
    "    mask2_array = sitk.GetArrayFromImage(mask2)\n",
    "    left_lung = (mask1_array | mask2_array).astype(np.uint8)\n",
    "\n",
    "\n",
    "    path_3=os.path.join(path,i,'lung_lower_lobe_right.nii.gz')\n",
    "    path_4 = os.path.join(path,i,'lung_upper_lobe_right.nii.gz')\n",
    "    path_5 = os.path.join(path,i,'lung_middle_lobe_right.nii.gz')\n",
    "    mask3 = sitk.ReadImage(path_3)\n",
    "    mask4 = sitk.ReadImage(path_4)\n",
    "    mask5 = sitk.ReadImage(path_5)\n",
    "    mask3_array = sitk.GetArrayFromImage(mask3)\n",
    "    mask4_array = sitk.GetArrayFromImage(mask4)\n",
    "    mask5_array = sitk.GetArrayFromImage(mask5)\n",
    "    right_lung = (mask3_array | mask4_array | mask5_array).astype(np.uint8)\n",
    "    lung = left_lung\n",
    "    lung[left_lung == 1] = 255\n",
    "    lung[right_lung ==1] = 170\n",
    "    union_mask = sitk.GetImageFromArray(lung)\n",
    "    joblib.dump(lung,os.path.join(path,i,'LUNG_mask.pkl'))\n",
    "\n",
    "    union_mask.CopyInformation(mask1)  \n",
    "\n",
    "    sitk.WriteImage(union_mask, os.path.join(path,i,'LUNG_mask.nii.gz'))\n",
    "\n"
   ]
  },
  {
   "cell_type": "code",
   "execution_count": null,
   "metadata": {},
   "outputs": [],
   "source": []
  }
 ],
 "metadata": {
  "kernelspec": {
   "display_name": "moose2_2",
   "language": "python",
   "name": "python3"
  },
  "language_info": {
   "codemirror_mode": {
    "name": "ipython",
    "version": 3
   },
   "file_extension": ".py",
   "mimetype": "text/x-python",
   "name": "python",
   "nbconvert_exporter": "python",
   "pygments_lexer": "ipython3",
   "version": "3.11.9"
  },
  "vscode": {
   "interpreter": {
    "hash": "a6a77a0d3d39c5c60cae3a5f324722692005cf957aa9593ab681ea3da02b3dfc"
   }
  }
 },
 "nbformat": 4,
 "nbformat_minor": 2
}
