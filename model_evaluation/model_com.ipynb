{
 "cells": [
  {
   "cell_type": "code",
   "execution_count": null,
   "id": "e4bd6e00",
   "metadata": {},
   "outputs": [],
   "source": [
    "import pandas as pd\n"
   ]
  },
  {
   "cell_type": "code",
   "execution_count": null,
   "id": "80c2b30f",
   "metadata": {},
   "outputs": [],
   "source": [
    "tt_filepath = \"./train_test.csv\"\n",
    "v_filepath = \"./validation.csv\"\n",
    "ex_vali_filepath = './ex.csv'\n",
    "train_test = pd.read_csv(tt_filepath)\n",
    "vali = pd.read_csv(v_filepath)\n",
    "ex_vali = pd.read_csv(ex_vali_filepath)"
   ]
  },
  {
   "cell_type": "code",
   "execution_count": null,
   "id": "42185ae5",
   "metadata": {},
   "outputs": [],
   "source": [
    "data_t =  pd.concat([train_test[[\"label\"]],train_test.loc[:,'L_R':\"PET_original_gldm_SmallDependenceLowGrayLevelEmphasis\"]],axis=1)\n",
    "data_v = pd.concat([vali[[\"label\"]],vali.loc[:,'L_R':\"PET_original_gldm_SmallDependenceLowGrayLevelEmphasis\"]],axis=1)\n",
    "data_ex = pd.concat([ex_vali[[\"label\"]],ex_vali.loc[:,'L_R':\"PET_original_gldm_SmallDependenceLowGrayLevelEmphasis\"]],axis=1)"
   ]
  },
  {
   "cell_type": "code",
   "execution_count": null,
   "id": "69be4c4e",
   "metadata": {},
   "outputs": [],
   "source": [
    "import numpy as np\n",
    "import sklearn\n",
    "data_t = sklearn.utils.shuffle(data_t)\n",
    "data_v = sklearn.utils.shuffle(data_v)\n",
    "data_ex =sklearn.utils.shuffle(data_ex)\n",
    "\n",
    "X = data_t.loc[:,\"L_R\":]\n",
    "y = data_t['label']\n",
    "Xvv = data_v.loc[:,\"L_R\":]\n",
    "y_v = data_v[\"label\"]\n",
    "columns = Xvv.columns\n",
    "X_ex = data_ex.loc[:,\"L_R\":]\n",
    "y_ex = data_ex['label']\n",
    "X_ex.head(5)"
   ]
  },
  {
   "cell_type": "code",
   "execution_count": null,
   "id": "bcbc9935",
   "metadata": {},
   "outputs": [],
   "source": [
    "feature =[\n",
    "    'shortest_distance',\n",
    "    'L_R','minor_axis_tumor','SUVmax',\n",
    "    'PET_original_shape_Elongation',\n",
    "    'CTR',\n",
    "    'original_shape_Maximum2DDiameterColumn',\n",
    "    'major_axis_tumor',\n",
    "    'original_shape_Flatness',\n",
    "    'PET_original_firstorder_Minimum',\n",
    "    'original_firstorder_10Percentile',\n",
    "    'original_firstorder_Range',\n",
    "    'original_glcm_DifferenceVariance',\n",
    "    'original_glcm_Imc2',\n",
    "    'original_glrlm_RunLengthNonUniformity']"
   ]
  },
  {
   "cell_type": "code",
   "execution_count": null,
   "id": "b33d382d",
   "metadata": {},
   "outputs": [],
   "source": [
    "X_v = Xvv[feature]\n",
    "X_t = X[feature]\n",
    "X_ex = X_ex[feature]"
   ]
  },
  {
   "cell_type": "code",
   "execution_count": null,
   "id": "020133bd",
   "metadata": {},
   "outputs": [],
   "source": [
    "from numpy import mean\n",
    "from numpy import std\n",
    "from sklearn.model_selection import cross_val_score\n",
    "from sklearn.model_selection import RepeatedStratifiedKFold\n",
    "from sklearn.model_selection import RepeatedKFold, GridSearchCV\n",
    "from sklearn.ensemble import RandomForestClassifier, AdaBoostClassifier, GradientBoostingClassifier\n",
    "import numpy as np\n",
    "from sklearn.svm import SVC\n",
    "from sklearn.tree import DecisionTreeClassifier\n",
    "from sklearn.neighbors import KNeighborsClassifier\n",
    "from sklearn.naive_bayes import GaussianNB,BernoulliNB\n",
    "from sklearn.neural_network import MLPClassifier\n",
    "from sklearn.linear_model import LogisticRegressionCV\n",
    "import lightgbm as lgb\n",
    "import xgboost as xgb\n",
    "import warnings\n",
    "from sklearn.metrics import classification_report, confusion_matrix\n",
    "from sklearn.ensemble import StackingClassifier\n",
    "from matplotlib import pyplot"
   ]
  },
  {
   "cell_type": "code",
   "execution_count": null,
   "id": "ee8b68d4",
   "metadata": {},
   "outputs": [],
   "source": [
    "def get_stacking():\n",
    "    # define the base models\n",
    "    level0 = list()\n",
    "    level0.append(('rf', RandomForestClassifier()))\n",
    "    level0.append(('svm', SVC()))\n",
    "    level0.append(('dbt', AdaBoostClassifier()))\n",
    "    # level0.append(('knn', KNeighborsClassifier()))\n",
    "    # level0.append(('nb', GaussianNB()))\n",
    "    # level0.append(('bnb',BernoulliNB()))\n",
    "    # level0.append(('dtree',DecisionTreeClassifier()))\n",
    "    level0.append(('gtree',GradientBoostingClassifier()))\n",
    "    # level0.append(('mlp',MLPClassifier()))\n",
    "    level0.append(('gbm',lgb.LGBMClassifier(verbose=-1)))\n",
    "    level0.append(('xgb',xgb.XGBClassifier()))\n",
    "    level0.append(('lr',LogisticRegressionCV()))\n",
    "    # define meta learner model\n",
    "    level1 = MLPClassifier()  #能到0.76\n",
    "\n",
    "    # define the stacking ensemble\n",
    "    model = StackingClassifier(estimators=level0, final_estimator=level1, cv=5)\n",
    "    return model\n"
   ]
  },
  {
   "cell_type": "code",
   "execution_count": null,
   "id": "3f802117",
   "metadata": {},
   "outputs": [],
   "source": [
    "def get_models():\n",
    "    models = dict()\n",
    "    models['rf'] = RandomForestClassifier()\n",
    "    models['svm'] = SVC()\n",
    "    models['dbt'] = AdaBoostClassifier()\n",
    "    models['knn'] = KNeighborsClassifier()\n",
    "    models['nb'] = GaussianNB()\n",
    "    models['bnb'] =BernoulliNB()\n",
    "    models['dtree'] =DecisionTreeClassifier()\n",
    "    models['gtree'] =GradientBoostingClassifier()\n",
    "    models['mlp'] =MLPClassifier()\n",
    "    models['gbm'] =lgb.LGBMClassifier()\n",
    "    models['xgb'] =xgb.XGBClassifier()\n",
    "    models['lr'] =LogisticRegressionCV()\n",
    "    models['stacking'] = get_stacking()\n",
    "    return models"
   ]
  },
  {
   "cell_type": "code",
   "execution_count": null,
   "id": "e556b99d",
   "metadata": {},
   "outputs": [],
   "source": [
    "def evaluate_model(model,x,y):\n",
    "    cv = RepeatedStratifiedKFold(n_splits=5, n_repeats=3)\n",
    "    scores = cross_val_score(model, x, y, scoring='accuracy', cv=cv, n_jobs=-1, error_score='raise')\n",
    "    return scores"
   ]
  },
  {
   "cell_type": "code",
   "execution_count": null,
   "id": "67b077ab",
   "metadata": {},
   "outputs": [],
   "source": [
    "import warnings \n",
    "warnings.filterwarnings(\"ignore\")\n",
    "models = get_models()\n",
    "for name, model in models.items():\n",
    "    model_v = model.fit(X_t,y)\n",
    "    score_v = model_v.score(X_v,y_v)\n",
    "    y_pred = model_v.predict(X_v)\n",
    "    y_probs = model_v.predict_proba(X_v)\n",
    "    score_ex = model_v.score(X_ex,y_ex)\n",
    "    y_pred_ex = model_v.predict(X_ex)\n",
    "    y_probs_ex = model_v.predict_proba(X_ex)\n",
    "    print(classification_report(y_v, y_pred))\n",
    "    print(confusion_matrix(y_ex, y_pred_ex))\n",
    "    print(classification_report(y_ex, y_pred_ex))"
   ]
  },
  {
   "cell_type": "code",
   "execution_count": null,
   "id": "87351035",
   "metadata": {},
   "outputs": [],
   "source": [
    "models = get_models()\n",
    "for name, model in models.items():\n",
    "    model_v = model.fit(X_t,y)\n"
   ]
  },
  {
   "cell_type": "code",
   "execution_count": null,
   "id": "45914f72",
   "metadata": {},
   "outputs": [],
   "source": [
    "results, names = list(), list()\n",
    "for name, model in models.items():\n",
    "    scores = evaluate_model(model,X_t,y)\n",
    "    results.append(scores)\n",
    "    names.append(name)\n",
    "    print('>%s %.3f (%.3f)' % (name, mean(scores), std(scores)))\n",
    "pyplot.boxplot(results, labels=names, showmeans=True)\n",
    "pyplot.show()"
   ]
  },
  {
   "cell_type": "code",
   "execution_count": null,
   "id": "6ffe6c17",
   "metadata": {},
   "outputs": [],
   "source": []
  }
 ],
 "metadata": {
  "kernelspec": {
   "display_name": "autoradiomics",
   "language": "python",
   "name": "python3"
  },
  "language_info": {
   "codemirror_mode": {
    "name": "ipython",
    "version": 3
   },
   "file_extension": ".py",
   "mimetype": "text/x-python",
   "name": "python",
   "nbconvert_exporter": "python",
   "pygments_lexer": "ipython3",
   "version": "3.8.18"
  }
 },
 "nbformat": 4,
 "nbformat_minor": 5
}
