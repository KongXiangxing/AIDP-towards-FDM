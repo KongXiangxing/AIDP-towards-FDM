{
 "cells": [
  {
   "cell_type": "code",
   "execution_count": null,
   "id": "e4bd6e00",
   "metadata": {},
   "outputs": [],
   "source": [
    "import pandas as pd\n",
    "\n"
   ]
  },
  {
   "cell_type": "code",
   "execution_count": null,
   "id": "80c2b30f",
   "metadata": {},
   "outputs": [],
   "source": [
    "tt_filepath = \"./train_test.csv\"\n",
    "v_filepath = \"./validation.csv\"\n",
    "ex_vali_filepath = './ex.csv'\n",
    "train_test = pd.read_csv(tt_filepath)\n",
    "vali = pd.read_csv(v_filepath)\n",
    "ex_vali = pd.read_csv(ex_vali_filepath)"
   ]
  },
  {
   "cell_type": "code",
   "execution_count": null,
   "id": "42185ae5",
   "metadata": {},
   "outputs": [],
   "source": [
    "data_t =  pd.concat([train_test[[\"label\"]],train_test.loc[:,'L_R':\"PET_original_gldm_SmallDependenceLowGrayLevelEmphasis\"]],axis=1)\n",
    "data_v = pd.concat([vali[[\"label\"]],vali.loc[:,'L_R':\"PET_original_gldm_SmallDependenceLowGrayLevelEmphasis\"]],axis=1)\n",
    "data_ex = pd.concat([ex_vali[[\"label\"]],ex_vali.loc[:,'L_R':\"PET_original_gldm_SmallDependenceLowGrayLevelEmphasis\"]],axis=1)"
   ]
  },
  {
   "cell_type": "code",
   "execution_count": null,
   "id": "69be4c4e",
   "metadata": {},
   "outputs": [],
   "source": [
    "import numpy as np\n",
    "import sklearn\n",
    "data_t = sklearn.utils.shuffle(data_t)\n",
    "data_v = sklearn.utils.shuffle(data_v)\n",
    "data_ex =sklearn.utils.shuffle(data_ex)\n",
    "\n",
    "X = data_t.loc[:,\"L_R\":]\n",
    "y = data_t['label']\n",
    "Xvv = data_v.loc[:,\"L_R\":]\n",
    "y_v = data_v[\"label\"]\n",
    "columns = Xvv.columns\n",
    "X_ex = data_ex.loc[:,\"L_R\":]\n",
    "y_ex = data_ex['label']\n",
    "X_ex.head(5)"
   ]
  },
  {
   "cell_type": "code",
   "execution_count": null,
   "id": "b66d978c",
   "metadata": {},
   "outputs": [],
   "source": [
    "feature =[\n",
    "    'shortest_distance',\n",
    "    'L_R','minor_axis_tumor','SUVmax',\n",
    "    'PET_original_shape_Elongation',\n",
    "    'CTR',\n",
    "    'original_shape_Maximum2DDiameterColumn',\n",
    "    'major_axis_tumor',\n",
    "    'original_shape_Flatness',\n",
    "    'PET_original_firstorder_Minimum',\n",
    "    'original_firstorder_10Percentile',\n",
    "    'original_firstorder_Range',\n",
    "    'original_glcm_DifferenceVariance',\n",
    "    'original_glcm_Imc2',\n",
    "    'original_glrlm_RunLengthNonUniformity']"
   ]
  },
  {
   "cell_type": "code",
   "execution_count": null,
   "id": "b33d382d",
   "metadata": {},
   "outputs": [],
   "source": [
    "X_v = Xvv[feature]\n",
    "X_t = X[feature]\n",
    "X_ex = X_ex[feature]"
   ]
  },
  {
   "cell_type": "code",
   "execution_count": null,
   "id": "6775396d",
   "metadata": {},
   "outputs": [],
   "source": [
    "import shap\n",
    "import matplotlib.pyplot as plt\n",
    "import xgboost as xgb\n",
    "model = xgb.XGBClassifier().fit(X_t,y)\n",
    "explainer = shap.Explainer(model,X_t)  \n",
    "shap_values = explainer(X_t)\n",
    "shap.summary_plot(shap_values, X_t)\n",
    "\n",
    "plt.savefig('shap_plot_force2.eps',dpi=300, bbox_inches='tight')\n",
    "plt.show()"
   ]
  },
  {
   "cell_type": "code",
   "execution_count": null,
   "id": "9c2ffc34",
   "metadata": {},
   "outputs": [],
   "source": [
    "plt.rcParams['figure.figsize']=(8, 5)\n",
    "shap.plots.beeswarm(shap_values,max_display=6,show=False)\n",
    "# shap.plots.waterfall(shap_values[0],max_display=12,show=False)\n",
    "# feat_names = list(X_t.columns)\n",
    "# shap.plots.violin(\n",
    "#     shap_values, features=X_t, feature_names=feat_names, plot_type=\"layered_violin\",max_display=12,show=False\n",
    "# )\n",
    "# shap.plots.heatmap(shap_values,max_display=12,show=False)\n",
    "plt.savefig('shap_plot_force2.eps',dpi=300, bbox_inches='tight')\n",
    "plt.show()"
   ]
  },
  {
   "cell_type": "code",
   "execution_count": null,
   "id": "53754114",
   "metadata": {},
   "outputs": [],
   "source": [
    "shap.initjs()\n",
    "explainer = shap.TreeExplainer(model)\n",
    "shap_values = explainer.shap_values(X_t)\n",
    "shap.force_plot(explainer.expected_value, shap_values, X_t)\n",
    "shap.save_html('shap_plot.html', shap.force_plot(explainer.expected_value, shap_values, X_t))"
   ]
  },
  {
   "cell_type": "code",
   "execution_count": null,
   "id": "7c9ca33e",
   "metadata": {},
   "outputs": [],
   "source": [
    "tt_filepath = \"./output/nomo.csv\"\n",
    "train_test = pd.read_csv(tt_filepath)\n",
    "data_t =  pd.concat([train_test[[\"label\"]],train_test.loc[:,'Contact_distance_from_the_pleura':\"Rad_score\"]],axis=1)\n"
   ]
  },
  {
   "cell_type": "code",
   "execution_count": null,
   "id": "980f1d48",
   "metadata": {},
   "outputs": [],
   "source": [
    "data_t = sklearn.utils.shuffle(data_t)\n",
    "\n",
    "X = data_t.loc[:,\"Contact_distance_from_the_pleura\":]\n",
    "y = data_t['label']\n"
   ]
  },
  {
   "cell_type": "code",
   "execution_count": null,
   "id": "0db4885b",
   "metadata": {},
   "outputs": [],
   "source": [
    "from sklearn.linear_model import LogisticRegressionCV\n",
    "model = LogisticRegressionCV().fit(X,y)\n",
    "explainer = shap.Explainer(model, X) \n",
    "shap_values = explainer(X)\n"
   ]
  },
  {
   "cell_type": "code",
   "execution_count": null,
   "id": "8251c27c",
   "metadata": {},
   "outputs": [],
   "source": [
    "plt.rcParams['figure.figsize']=(8, 5)\n",
    "shap.plots.heatmap(shap_values,max_display=12,show=False)\n",
    "plt.savefig('shap_plot_rad_heatmap.eps',dpi=300, bbox_inches='tight')\n",
    "plt.show()"
   ]
  }
 ],
 "metadata": {
  "kernelspec": {
   "display_name": "radiomics",
   "language": "python",
   "name": "python3"
  },
  "language_info": {
   "codemirror_mode": {
    "name": "ipython",
    "version": 3
   },
   "file_extension": ".py",
   "mimetype": "text/x-python",
   "name": "python",
   "nbconvert_exporter": "python",
   "pygments_lexer": "ipython3",
   "version": "3.7.12"
  }
 },
 "nbformat": 4,
 "nbformat_minor": 5
}
