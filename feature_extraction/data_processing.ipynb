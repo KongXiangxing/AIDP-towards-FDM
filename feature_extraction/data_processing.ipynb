{
 "cells": [
  {
   "cell_type": "code",
   "execution_count": null,
   "metadata": {},
   "outputs": [],
   "source": [
    "import os\n",
    "import radiomics\n",
    "import pandas as pd\n",
    "import numpy as np\n",
    "import SimpleITK as sitk\n",
    "from sklearn.model_selection import train_test_split\n",
    "from sklearn.preprocessing import StandardScaler, OneHotEncoder"
   ]
  },
  {
   "cell_type": "code",
   "execution_count": null,
   "metadata": {},
   "outputs": [],
   "source": [
    "para_path_CT = \"./Params.yaml\"\n",
    "extractor_CT = radiomics.featureextractor.RadiomicsFeatureExtractor(para_path_CT)\n",
    "df_CT = pd.DataFrame()"
   ]
  },
  {
   "cell_type": "code",
   "execution_count": null,
   "metadata": {},
   "outputs": [],
   "source": [
    "path = '../data'\n",
    "for i in os.listdir(path):\n",
    "    folder_a = os.listdir(os.path.join(path,i))\n",
    "    for folder in folder_a:\n",
    "        print(folder)\n",
    "        df_CT_ID = pd.DataFrame([str(folder)], columns =[\"ID\"])\n",
    "        label = pd.DataFrame([1],columns=[\"label\"])\n",
    "        imagePath = os.path.join(path,i,folder,'CT_low.nii.gz')\n",
    "        maskPath = CT_M_path = os.path.join('../data',folder,'CT_M.nii.gz')\n",
    "        mask = sitk.ReadImage(maskPath)\n",
    "        mask_pixel = sitk.GetArrayFromImage(mask)\n",
    "        featureVector_CT = extractor_CT.execute(imagePath, maskPath)  \n",
    "        df_add_CT = pd.DataFrame.from_dict(featureVector_CT.values()).T\n",
    "        df_add_CT.columns = featureVector_CT.keys()\n",
    "        col1 = pd.concat([df_CT_ID,label],axis=1)\n",
    "        col2 = pd.concat([col1,df_add_CT],axis=1)\n",
    "        df_CT = pd.concat([df_CT, col2])\n",
    "        \n",
    "        "
   ]
  },
  {
   "cell_type": "code",
   "execution_count": null,
   "metadata": {},
   "outputs": [],
   "source": [
    "df_CT.to_csv(\"./extract_CT.csv\")"
   ]
  },
  {
   "cell_type": "code",
   "execution_count": null,
   "metadata": {},
   "outputs": [],
   "source": [
    "para_path = \"./Params_2.yaml\"\n",
    "extractor = radiomics.featureextractor.RadiomicsFeatureExtractor(para_path)\n",
    "df_PET = pd.DataFrame()\n"
   ]
  },
  {
   "cell_type": "code",
   "execution_count": null,
   "id": "816dfbfc",
   "metadata": {},
   "outputs": [],
   "source": [
    "for i in os.listdir(path):\n",
    "    folder_a = os.listdir(os.path.join(path,i))\n",
    "    for folder in folder_a:\n",
    "        print(folder)\n",
    "        df_PET_ID = pd.DataFrame([str(folder)], columns =[\"ID\"])\n",
    "        label = pd.DataFrame([1],columns=[\"label\"])\n",
    "        imagePath = os.path.join(path,'input',i,folder,'PT_0000.nii.gz')\n",
    "        maskPath = os.path.join(path,'output',i,folder,'PT_FDG_Tumor_PT_0000.nii.gz')\n",
    "        mask = sitk.ReadImage(maskPath)\n",
    "        mask_pixel = sitk.GetArrayFromImage(mask)\n",
    "        featureVector = extractor.execute(imagePath, maskPath) \n",
    "        df_add = pd.DataFrame.from_dict(featureVector.values()).T\n",
    "        df_add.columns = featureVector.keys()\n",
    "        col1 = pd.concat([df_PET_ID,label],axis=1)\n",
    "        col2 = pd.concat([col1,df_add],axis=1)\n",
    "        df_PET = pd.concat([df_PET, col2])\n",
    "            \n",
    "columns_list = df_PET.columns.to_list()\n",
    "pet_columns = ['PET_'+str(i) for i in columns_list]\n",
    "df_PET.columns = pet_columns\n"
   ]
  },
  {
   "cell_type": "code",
   "execution_count": null,
   "metadata": {},
   "outputs": [],
   "source": [
    "df_PET = df_PET.rename(columns={'PET_ID':'ID'})\n",
    "df_PET.to_csv(\"./extract_SUV.csv\")"
   ]
  },
  {
   "cell_type": "code",
   "execution_count": null,
   "metadata": {},
   "outputs": [],
   "source": [
    "xlsx2_filepath = \"./extract_CT.csv\"\n",
    "xlsx3_filepath = \"./extract_SUV.csv\"\n",
    "\n",
    "data2_nnor = pd.read_csv(xlsx2_filepath)\n",
    "data3_nnor = pd.read_csv(xlsx3_filepath)"
   ]
  },
  {
   "cell_type": "code",
   "execution_count": null,
   "id": "563b1b01",
   "metadata": {},
   "outputs": [],
   "source": [
    "import pandas as pd\n",
    "import numpy as np\n",
    "ex_vali_fp = './features_non.csv'\n",
    "nnor = pd.read_csv(ex_vali_fp, encoding='gbk')\n",
    "X_nnor = nnor.loc[:,\"AGE\":]\n",
    "colNames = X_nnor.columns\n",
    "X_nnor = X_nnor.astype(np.float64)\n",
    "X2 = X_nnor.fillna(X_nnor.mean())\n",
    "X2 = StandardScaler().fit_transform(X_nnor)\n",
    "X2 = pd.DataFrame(X2)\n",
    "X2.columns = colNames\n",
    "data2 = pd.concat([nnor.loc[:,\"label\":'lobulation'],X2],axis=1)\n",
    "data2.to_csv(\"./features.csv\")\n",
    "data2.head(5)"
   ]
  },
  {
   "cell_type": "code",
   "execution_count": null,
   "metadata": {},
   "outputs": [],
   "source": [
    "import pandas as pd\n",
    "data = pd.read_csv(\"./SUV/features.csv\")\n",
    "\n"
   ]
  },
  {
   "cell_type": "code",
   "execution_count": null,
   "metadata": {},
   "outputs": [],
   "source": [
    "y = data[\"label\"]\n",
    "X = data.loc[:,\"Gender\":]"
   ]
  },
  {
   "cell_type": "code",
   "execution_count": null,
   "metadata": {},
   "outputs": [],
   "source": [
    "X_train, X_test,y_train,y_test = train_test_split(X,y,test_size = 0.2)\n",
    "validation = pd.concat([X_test,y_test],axis=1)\n",
    "train_test = pd.concat([X_train,y_train],axis=1)\n",
    "# print(y_test)"
   ]
  },
  {
   "cell_type": "code",
   "execution_count": null,
   "metadata": {},
   "outputs": [],
   "source": [
    "validation.to_csv(\"./validation.csv\")\n",
    "train_test.to_csv(\"./train_test.csv\")"
   ]
  }
 ],
 "metadata": {
  "kernelspec": {
   "display_name": "Python 3.7.11 ('pyradiomics')",
   "language": "python",
   "name": "python3"
  },
  "language_info": {
   "codemirror_mode": {
    "name": "ipython",
    "version": 3
   },
   "file_extension": ".py",
   "mimetype": "text/x-python",
   "name": "python",
   "nbconvert_exporter": "python",
   "pygments_lexer": "ipython3",
   "version": "3.8.19"
  },
  "vscode": {
   "interpreter": {
    "hash": "c71f1b27bd6e70a24e9f9e5f6cb823ee3f3d9232894c92d0d2c946925cfef077"
   }
  }
 },
 "nbformat": 4,
 "nbformat_minor": 5
}
