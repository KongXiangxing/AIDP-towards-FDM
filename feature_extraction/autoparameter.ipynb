{
 "cells": [
  {
   "cell_type": "code",
   "execution_count": null,
   "metadata": {},
   "outputs": [],
   "source": [
    "import cv2\n",
    "import numpy as np\n",
    "import pydicom\n",
    "import os\n",
    "import SimpleITK as sitk\n",
    "import joblib\n",
    "from shapely import geometry as geo\n",
    "from shapely import wkt \n",
    "from shapely import ops\n",
    "from shapely.geometry import Polygon\n"
   ]
  },
  {
   "cell_type": "code",
   "execution_count": null,
   "metadata": {},
   "outputs": [],
   "source": [
    "import cv2\n",
    "import numpy as np\n",
    "import pydicom\n",
    "import os\n",
    "import SimpleITK as sitk\n",
    "import joblib\n",
    "from shapely import geometry as geo\n",
    "from shapely import wkt \n",
    "from shapely import ops\n",
    "from shapely.geometry import Polygon\n",
    "from autoextract import auto_extract \n",
    "import pandas as pd\n",
    "\n",
    "path = '../data'\n",
    "df = pd.DataFrame(columns=['ID','major_axis_tumor', 'minor_axis_tumor', 'L_R', 'shortest_distance', 'CTR', 'SUVmax'])\n",
    "for i in os.listdir(path):\n",
    "    if i != \"0\" and i !=\"1\":\n",
    "            continue\n",
    "    folder_a = os.listdir(os.path.join(path,i))\n",
    "    for folder in folder_a:\n",
    "        print(folder)\n",
    "        imagePath = os.path.join('../data/dicomCT',folder)\n",
    "        dcm_dir = imagePath\n",
    "        CT_M_path = os.path.join(path,i,folder,'CT_M.nii.gz')\n",
    "        lung_path = os.path.join(path,i,folder,'LUNG_mask.pkl')\n",
    "        SUV_path = os.path.join(path,i,folder,'SUV.nii.gz')\n",
    "        CT_path = os.path.join(path,i,folder,'CT.nii.gz')\n",
    "        PET_M_path = os.path.join(path,i,folder,'PET_M_R.nii.gz')\n",
    "        major_axis_tumor, minor_axis_tumor, L_R, shortest_distance, CTR, SUVmax = auto_extract.extract_all(dcm_dir,CT_M_path,lung_path,SUV_path,CT_path,PET_M_path)\n",
    "        ID = folder\n",
    "        data = [{'ID':ID,'major_axis_tumor':major_axis_tumor, 'minor_axis_tumor':minor_axis_tumor, 'L_R':L_R, 'shortest_distance':shortest_distance, 'CTR':CTR, 'SUVmax':SUVmax}]\n",
    "        data = pd.DataFrame(data)\n",
    "        df= pd.concat([df,data],ignore_index = True)\n"
   ]
  },
  {
   "cell_type": "code",
   "execution_count": null,
   "metadata": {},
   "outputs": [],
   "source": [
    "df.to_csv(\"./method2_ex.csv\")"
   ]
  }
 ],
 "metadata": {
  "interpreter": {
   "hash": "d4c8ad89b3872937943a9c81c0f4e530de6ed8aab4b8488e0ec1cc457090dfae"
  },
  "kernelspec": {
   "display_name": "Python 3.8.0 ('pytorch')",
   "language": "python",
   "name": "python3"
  },
  "language_info": {
   "codemirror_mode": {
    "name": "ipython",
    "version": 3
   },
   "file_extension": ".py",
   "mimetype": "text/x-python",
   "name": "python",
   "nbconvert_exporter": "python",
   "pygments_lexer": "ipython3",
   "version": "3.12.4"
  },
  "orig_nbformat": 4
 },
 "nbformat": 4,
 "nbformat_minor": 2
}
