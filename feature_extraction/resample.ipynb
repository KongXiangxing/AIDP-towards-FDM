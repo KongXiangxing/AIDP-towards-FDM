{
 "cells": [
  {
   "cell_type": "code",
   "execution_count": null,
   "id": "a2e5d10b",
   "metadata": {},
   "outputs": [],
   "source": [
    "import SimpleITK as sitk\n",
    "import scipy.ndimage\n",
    "import numpy as np\n",
    "import os\n",
    "import shutil"
   ]
  },
  {
   "cell_type": "code",
   "execution_count": null,
   "id": "219ef981",
   "metadata": {},
   "outputs": [],
   "source": [
    "def resample_spacing(image, spacing, new_spacing):\n",
    "    resize_factor = spacing / new_spacing\n",
    "    new_real_shape = image.shape * resize_factor\n",
    "    new_shape = np.round(new_real_shape)\n",
    "    real_resize_factor = new_shape / image.shape\n",
    "    new_spacing = spacing / real_resize_factor\n",
    "    image = scipy.ndimage.interpolation.zoom(image, real_resize_factor,order=0)\n",
    "\n",
    "    return image"
   ]
  },
  {
   "cell_type": "code",
   "execution_count": null,
   "id": "88aa57f4",
   "metadata": {},
   "outputs": [],
   "source": [
    "out_path = '../output'\n",
    "path = '../segdl'\n",
    "for folder in os.listdir(path):\n",
    "    for file in os.listdir(os.path.join(path,folder)):\n",
    "        img_path = os.path.join(path,folder,file,'CT_low.nii.gz')\n",
    "        mask_path = os.path.join(out_path,file,'PT_FDG_Tumor_PT_0000.nii.gz')\n",
    "        # print(img_path,mask_path)\n",
    "        img_itk = sitk.ReadImage(img_path)\n",
    "        img = sitk.GetArrayFromImage(img_itk)\n",
    "        mask_itk = sitk.ReadImage(mask_path)\n",
    "        mask = sitk.GetArrayFromImage(mask_itk)\n",
    "        spacing_pet = np.array(img_itk.GetSpacing())\n",
    "        spacing_mask = np.array(mask_itk.GetSpacing())\n",
    "        new_spacing = np.array([spacing_pet[2],spacing_pet[1],spacing_pet[0]], dtype=np.float32)\n",
    "        spacing = np.array([spacing_mask[2],spacing_mask[1],spacing_mask[0]], dtype=np.float32)\n",
    "        resampled_mask= resample_spacing(mask, spacing, new_spacing)\n",
    "        c1 = int(abs((resampled_mask.shape[0]-img.shape[0])/2))\n",
    "        c2 = int(abs((resampled_mask.shape[0]+img.shape[0])/2))\n",
    "        h1 = abs((resampled_mask.shape[1]-img.shape[1])/2)\n",
    "        h2 = abs((resampled_mask.shape[1]+img.shape[1])/2)\n",
    "        w1 = abs((resampled_mask.shape[2]-img.shape[2])/2)\n",
    "        w2 = abs((resampled_mask.shape[2]+img.shape[2])/2)\n",
    "        if mask.shape[1] == 144:\n",
    "            if h1-int(h1) == 0 and c1 == 0:\n",
    "                mask_re = np.pad(resampled_mask,((c1,c1),(int(h1),int(h1)),(int(w1),int(w1))),\"constant\")\n",
    "            elif h1-int(h1) != 0 and c1 == 0:\n",
    "                mask_re = np.pad(resampled_mask,((c1,c1),(int(h1)+1,int(h1)),(int(w1)+1,int(w1))),\"constant\")\n",
    "            else:\n",
    "                print(\"c1!=0\",file)\n",
    "        if mask.shape[1] ==200:\n",
    "            if c1 == 0:\n",
    "                mask_re = resampled_mask[c1:c2,int(h1):int(h2),int(w1):int(w2)]\n",
    "            else:\n",
    "                print(\"c1!=0\",file)\n",
    "        if mask_re.shape != img.shape:\n",
    "            print(\"!!!\",file)\n",
    "        output_path = os.path.join(out_path,file,'CT_M.nii.gz')\n",
    "        mask_img = sitk.GetImageFromArray((mask_re))\n",
    "        sitk.WriteImage(mask_img, output_path)"
   ]
  }
 ],
 "metadata": {
  "kernelspec": {
   "display_name": "Python 3.7.11 ('pyradiomics')",
   "language": "python",
   "name": "python3"
  },
  "language_info": {
   "codemirror_mode": {
    "name": "ipython",
    "version": 3
   },
   "file_extension": ".py",
   "mimetype": "text/x-python",
   "name": "python",
   "nbconvert_exporter": "python",
   "pygments_lexer": "ipython3",
   "version": "3.10.8"
  },
  "vscode": {
   "interpreter": {
    "hash": "c71f1b27bd6e70a24e9f9e5f6cb823ee3f3d9232894c92d0d2c946925cfef077"
   }
  }
 },
 "nbformat": 4,
 "nbformat_minor": 5
}
