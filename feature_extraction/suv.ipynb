{
 "cells": [
  {
   "cell_type": "code",
   "execution_count": null,
   "id": "db1b11f7",
   "metadata": {},
   "outputs": [],
   "source": [
    "from pydicom import dcmread  \n",
    "import os\n",
    "import SimpleITK as sitk"
   ]
  },
  {
   "cell_type": "code",
   "execution_count": null,
   "id": "b174260c",
   "metadata": {},
   "outputs": [],
   "source": [
    "def dicom_hhmmss(t):   \n",
    "    t = str(t)\n",
    "    if len(t) == 5:    \n",
    "     \tt = '0'+t\n",
    "    h_t = float(t[0:2])\n",
    "    m_t = float(t[2:4])\n",
    "    s_t = float(t[4:6])\n",
    "    return h_t*3600+m_t*60+s_t\n"
   ]
  },
  {
   "cell_type": "code",
   "execution_count": null,
   "id": "298e5e37",
   "metadata": {},
   "outputs": [],
   "source": [
    "def PET2SUV(data, PET,norm):\n",
    "    \n",
    "    [ST, AT, PW, RST, RTD, RHL, RS, RI] = data \t\t\n",
    "    decay_time = dicom_hhmmss(ST)-dicom_hhmmss(RST)\n",
    "    decay_dose = float(RTD) * pow(2, -float(decay_time) / float(RHL))\n",
    "    SUVbwScaleFactor = (1000 * float(PW)) / decay_dose\n",
    "    if norm:\n",
    "        PET_SUV = (PET * float(RS) + float(RI)) * SUVbwScaleFactor    \n",
    "    else:\n",
    "        PET_SUV = PET * SUVbwScaleFactor    \t\n",
    "    return PET_SUV\n"
   ]
  },
  {
   "cell_type": "code",
   "execution_count": null,
   "id": "9d71cf35",
   "metadata": {},
   "outputs": [],
   "source": [
    "path = \"./PR\"\n",
    "for i in os.listdir(path):\n",
    "    if i != \"0\" and i !=\"1\":\n",
    "        continue\n",
    "    folder_a = os.listdir(os.path.join(path,i))\n",
    "    # df_PET_ID = pd.DataFrame([str(folder)], columns =[\"ID\"])\n",
    "    # label = pd.DataFrame([1],columns=[\"label\"])\n",
    "    for folder in folder_a:\n",
    "        imageName =  \"PET\"\n",
    "        petName = \"PET.nii.gz\"\n",
    "        if i == \"0\":\n",
    "            imagePath = os.path.join('./label0',folder, imageName)\n",
    "            dicom_path = os.path.join(imagePath,os.listdir(imagePath)[0])\n",
    "        elif i == '1':\n",
    "            imagePath = os.path.join('./label1',folder, imageName)\n",
    "            dicom_path = os.path.join(imagePath,os.listdir(imagePath)[0])\n",
    "        else: continue\n",
    "        dataDir = os.path.join(path,i, folder)\n",
    "        dcm = dcmread(dicom_path)\n",
    "        RadiopharmaceuticalInformationSequence = dcm.RadiopharmaceuticalInformationSequence[0]\n",
    "        RadiopharmaceuticalStartTime = str(RadiopharmaceuticalInformationSequence['RadiopharmaceuticalStartTime'].value)\n",
    "        RadionuclideTotalDose = str(RadiopharmaceuticalInformationSequence['RadionuclideTotalDose'].value)\n",
    "        RadionuclideHalfLife = str(RadiopharmaceuticalInformationSequence['RadionuclideHalfLife'].value)\n",
    "        dcm_tag = [str(dcm.SeriesTime),str(dcm.AcquisitionTime),str(dcm.PatientWeight),RadiopharmaceuticalStartTime,\n",
    "                    RadionuclideTotalDose,RadionuclideHalfLife,str(dcm.RescaleSlope),str(dcm.RescaleIntercept)]\n",
    "        image = sitk.ReadImage(os.path.join(dataDir,petName))\n",
    "        data = sitk.GetArrayFromImage(image)\n",
    "        new_pet = PET2SUV(dcm_tag,data,norm=False)\n",
    "        out = sitk.GetImageFromArray(new_pet)\n",
    "        sitk.WriteImage(out,os.path.join(dataDir,'SUV.nii.gz'))\n",
    "        "
   ]
  }
 ],
 "metadata": {
  "kernelspec": {
   "display_name": "radiomics",
   "language": "python",
   "name": "python3"
  },
  "language_info": {
   "codemirror_mode": {
    "name": "ipython",
    "version": 3
   },
   "file_extension": ".py",
   "mimetype": "text/x-python",
   "name": "python",
   "nbconvert_exporter": "python",
   "pygments_lexer": "ipython3",
   "version": "3.7.12"
  },
  "vscode": {
   "interpreter": {
    "hash": "0c3174b46a768decaeca223103987edb75277ce7cd4f742e385bdded699d71c5"
   }
  }
 },
 "nbformat": 4,
 "nbformat_minor": 5
}
